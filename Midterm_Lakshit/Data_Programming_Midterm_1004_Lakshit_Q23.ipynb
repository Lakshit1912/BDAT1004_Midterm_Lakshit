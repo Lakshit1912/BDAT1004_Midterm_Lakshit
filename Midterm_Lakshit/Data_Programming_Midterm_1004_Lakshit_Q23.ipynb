{
 "cells": [
  {
   "cell_type": "markdown",
   "id": "34d52c4c",
   "metadata": {},
   "source": [
    "# Q23\n",
    "## Tough\n",
    "<img src=\"https://25.media.tumblr.com/7ec8a5f476bf3eb7f19726316192d5e9/tumblr_mk7dnxrR6I1qcmi8ro1_500.gif\">\n"
   ]
  },
  {
   "cell_type": "code",
   "execution_count": 1,
   "id": "f855f454",
   "metadata": {},
   "outputs": [],
   "source": [
    "def tough(indent, n):\n",
    "    if n <= 1:\n",
    "        print(' ' * indent + '*' * n)\n",
    "        return\n",
    "    half = n // 2\n",
    "    tough(indent, half)\n",
    "    print(' ' * indent + '*' * n)\n",
    "    tough(indent + half, half)\n",
    "\n",
    "\n"
   ]
  },
  {
   "cell_type": "markdown",
   "id": "35a029cf",
   "metadata": {},
   "source": [
    "## TESTS"
   ]
  },
  {
   "cell_type": "code",
   "execution_count": 2,
   "id": "08627286",
   "metadata": {},
   "outputs": [
    {
     "name": "stdout",
     "output_type": "stream",
     "text": [
      "Test01\n",
      "\n",
      "Test02\n",
      "*\n",
      "Test03\n",
      "*\n",
      "**\n",
      " *\n",
      "Test04\n",
      "*\n",
      "**\n",
      " *\n",
      "****\n",
      "  *\n",
      "  **\n",
      "   *\n",
      "Test05\n",
      "*\n",
      "**\n",
      " *\n",
      "****\n",
      "  *\n",
      "  **\n",
      "   *\n",
      "********\n",
      "    *\n",
      "    **\n",
      "     *\n",
      "    ****\n",
      "      *\n",
      "      **\n",
      "       *\n"
     ]
    }
   ],
   "source": [
    "print(\"Test01\")\n",
    "tough(0, 0)\n",
    "print(\"Test02\")\n",
    "tough(0, 1)\n",
    "print(\"Test03\")\n",
    "tough(0, 2)\n",
    "print(\"Test04\")\n",
    "tough(0, 4)\n",
    "print(\"Test05\")\n",
    "tough(0,8)"
   ]
  }
 ],
 "metadata": {
  "kernelspec": {
   "display_name": "Python 3 (ipykernel)",
   "language": "python",
   "name": "python3"
  },
  "language_info": {
   "codemirror_mode": {
    "name": "ipython",
    "version": 3
   },
   "file_extension": ".py",
   "mimetype": "text/x-python",
   "name": "python",
   "nbconvert_exporter": "python",
   "pygments_lexer": "ipython3",
   "version": "3.11.4"
  }
 },
 "nbformat": 4,
 "nbformat_minor": 5
}
