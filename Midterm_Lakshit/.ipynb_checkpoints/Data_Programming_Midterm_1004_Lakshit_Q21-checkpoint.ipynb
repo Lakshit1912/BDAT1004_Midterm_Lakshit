{
 "cells": [
  {
   "cell_type": "markdown",
   "id": "1e701fe2",
   "metadata": {},
   "source": [
    "# Point and Segment Classes\n",
    "In this notebook, we will define two classes, `Point` and `Segment`, to represent points and line segments in a 2D space.\n",
    "\n"
   ]
  },
  {
   "cell_type": "code",
   "execution_count": 1,
   "id": "2ab96b7e",
   "metadata": {},
   "outputs": [],
   "source": [
    "class Point:\n",
    "    def __init__(self, x=0, y=0):\n",
    "        self.x = x\n",
    "        self.y = y\n"
   ]
  },
  {
   "cell_type": "markdown",
   "id": "78837bcf",
   "metadata": {},
   "source": [
    "## Segment Class\n",
    "The `Segment` class represents a line segment defined by two `Point` objects. It has methods to calculate the length and slope of the segment.\n"
   ]
  },
  {
   "cell_type": "code",
   "execution_count": 2,
   "id": "001fb19e",
   "metadata": {},
   "outputs": [],
   "source": [
    "import math\n",
    "\n",
    "class Segment:\n",
    "    def __init__(self, p1, p2):\n",
    "        self.p1 = p1\n",
    "        self.p2 = p2\n",
    "        \n",
    "    def length(self):\n",
    "        return math.sqrt((self.p2.x - self.p1.x)**2 + (self.p2.y - self.p1.y)**2)\n",
    "    \n",
    "    def slope(self):\n",
    "        if self.p2.x - self.p1.x == 0:  # Avoid division by zero\n",
    "            return None\n",
    "        return (self.p2.y - self.p1.y) / (self.p2.x - self.p1.x)\n"
   ]
  },
  {
   "cell_type": "markdown",
   "id": "7e81a6bb",
   "metadata": {},
   "source": [
    "## Testing\n",
    "Let's create some instances of `Point` and `Segment` and test the `length` and `slope` methods.\n"
   ]
  },
  {
   "cell_type": "code",
   "execution_count": 3,
   "id": "f8289ed0",
   "metadata": {},
   "outputs": [
    {
     "name": "stdout",
     "output_type": "stream",
     "text": [
      "Length: 5.0\n",
      "Slope: 1.3333333333333333\n"
     ]
    }
   ],
   "source": [
    "p1 = Point(3, 4)\n",
    "p2 = Point()\n",
    "s = Segment(p1, p2)\n",
    "print(\"Length:\", s.length())  # Output: 5.0\n",
    "print(\"Slope:\", s.slope())    # Output: 0.75\n"
   ]
  },
  {
   "cell_type": "code",
   "execution_count": null,
   "id": "aff9dd82",
   "metadata": {},
   "outputs": [],
   "source": []
  }
 ],
 "metadata": {
  "kernelspec": {
   "display_name": "Python 3 (ipykernel)",
   "language": "python",
   "name": "python3"
  },
  "language_info": {
   "codemirror_mode": {
    "name": "ipython",
    "version": 3
   },
   "file_extension": ".py",
   "mimetype": "text/x-python",
   "name": "python",
   "nbconvert_exporter": "python",
   "pygments_lexer": "ipython3",
   "version": "3.11.4"
  }
 },
 "nbformat": 4,
 "nbformat_minor": 5
}
