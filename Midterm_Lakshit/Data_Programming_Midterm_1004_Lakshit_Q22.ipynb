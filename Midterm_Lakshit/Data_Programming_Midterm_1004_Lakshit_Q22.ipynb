{
 "cells": [
  {
   "cell_type": "markdown",
   "id": "a7d865e6",
   "metadata": {},
   "source": [
    "\n",
    "# Q22\n",
    "## Creating table and database\n",
    "<img src = \"https://i.pinimg.com/originals/9c/3a/79/9c3a7907701f74ab0ecad49b961e8da6.gif\">"
   ]
  },
  {
   "cell_type": "code",
   "execution_count": 1,
   "id": "843801be",
   "metadata": {},
   "outputs": [],
   "source": [
    "import sqlite3\n",
    "\n",
    "conn = sqlite3.connect(':memory:')\n",
    "cursor = conn.cursor()\n",
    "\n",
    "cursor.execute('''\n",
    "CREATE TABLE Weather (\n",
    "    id INT PRIMARY KEY,\n",
    "    recordDate DATE,\n",
    "    temperature INT\n",
    ");\n",
    "''')\n",
    "\n",
    "data = [(1, '2015-01-01', 10),\n",
    "        (2, '2015-01-02', 25),\n",
    "        (3, '2015-01-03', 20),\n",
    "        (4, '2015-01-04', 30)]\n",
    "\n",
    "cursor.executemany('INSERT INTO Weather VALUES (?, ?, ?)', data)\n",
    "conn.commit()\n"
   ]
  },
  {
   "cell_type": "markdown",
   "id": "42e550c0",
   "metadata": {},
   "source": [
    "## Execute SQL Query"
   ]
  },
  {
   "cell_type": "code",
   "execution_count": 2,
   "id": "7500b869",
   "metadata": {},
   "outputs": [
    {
     "name": "stdout",
     "output_type": "stream",
     "text": [
      "[(2,), (4,)]\n"
     ]
    }
   ],
   "source": [
    "\n",
    "cursor.execute('''\n",
    "SELECT id\n",
    "FROM (\n",
    "    SELECT id,\n",
    "           temperature,\n",
    "           LAG(temperature) OVER (ORDER BY recordDate) as prev_temperature\n",
    "    FROM Weather\n",
    ") t\n",
    "WHERE temperature > prev_temperature;\n",
    "''')\n",
    "\n",
    "print(cursor.fetchall())\n",
    "\n",
    "conn.close()\n"
   ]
  }
 ],
 "metadata": {
  "kernelspec": {
   "display_name": "Python 3 (ipykernel)",
   "language": "python",
   "name": "python3"
  },
  "language_info": {
   "codemirror_mode": {
    "name": "ipython",
    "version": 3
   },
   "file_extension": ".py",
   "mimetype": "text/x-python",
   "name": "python",
   "nbconvert_exporter": "python",
   "pygments_lexer": "ipython3",
   "version": "3.11.4"
  }
 },
 "nbformat": 4,
 "nbformat_minor": 5
}
